{
 "cells": [
  {
   "cell_type": "markdown",
   "metadata": {},
   "source": [
    "# Importing Libraries"
   ]
  },
  {
   "cell_type": "code",
   "execution_count": 1,
   "metadata": {},
   "outputs": [],
   "source": [
    "import os\n",
    "import re\n",
    "import chardet\n",
    "import pandas as pd\n",
    "import multiprocessing"
   ]
  },
  {
   "cell_type": "markdown",
   "metadata": {},
   "source": [
    "# Getting information about your machine"
   ]
  },
  {
   "cell_type": "markdown",
   "metadata": {},
   "source": [
    "For measuring the cpu efficiency, we assume that all the processors are being used in the code. If that's not the case, modify the value of the variable below"
   ]
  },
  {
   "cell_type": "code",
   "execution_count": 2,
   "metadata": {},
   "outputs": [
    {
     "data": {
      "text/plain": [
       "16"
      ]
     },
     "execution_count": 2,
     "metadata": {},
     "output_type": "execute_result"
    }
   ],
   "source": [
    "num_processors = multiprocessing.cpu_count()\n",
    "\n",
    "num_processors"
   ]
  },
  {
   "cell_type": "markdown",
   "metadata": {},
   "source": [
    "# Getting the data and calculating metrics"
   ]
  },
  {
   "cell_type": "code",
   "execution_count": 19,
   "metadata": {},
   "outputs": [],
   "source": [
    "# Path to the results folder\n",
    "results_path = '../results'\n",
    "\n",
    "default_parameters = {\n",
    "    \"difficulty\": 4,\n",
    "    \"size\": 0,\n",
    "    \"capacity\": 10,\n",
    "    \"numBlocks\": 5\n",
    "}"
   ]
  },
  {
   "cell_type": "code",
   "execution_count": 24,
   "metadata": {},
   "outputs": [],
   "source": [
    "def initialize_dataset(results_folder, default_parameters):\n",
    "    # List to store the data\n",
    "    data = []\n",
    "\n",
    "    # Iterate through the files in the results folder\n",
    "    for filename in os.listdir(results_folder):\n",
    "        if filename.endswith('.txt'):\n",
    "            file_path = os.path.join(results_folder, filename)\n",
    "            with open(file_path, 'rb') as file:\n",
    "                rawdata = file.read()\n",
    "                result = chardet.detect(rawdata)\n",
    "                file_encoding = result['encoding']\n",
    "            with open(file_path, 'r', encoding=file_encoding, errors='ignore') as file:\n",
    "                content = file.read()\n",
    "                lines = content.split('\\n')  # Split content into lines\n",
    "\n",
    "                # Find the lines that contain \"TotalSeconds\" and extract the corresponding values\n",
    "                total_seconds_values = [float(line.split(':')[1].strip().replace(',', '.')) for line in lines if 'TotalSeconds' in line]\n",
    "\n",
    "                if len(total_seconds_values) == 3:\n",
    "                    sequential_time, cpu_time, gpu_time = total_seconds_values\n",
    "                else:\n",
    "                    print(f\"Time values not found in expected format in {filename}\")\n",
    "                    continue\n",
    "\n",
    "                # Extract parameters from the filename\n",
    "                parameters = default_parameters.copy()\n",
    "                for param in re.findall(r'_(\\w+)=(\\d+)', filename):\n",
    "                    key, value = param\n",
    "                    parameters[key] = int(value)\n",
    "\n",
    "                # Calculate speedup\n",
    "                cpu_speedup = sequential_time / cpu_time\n",
    "                gpu_speedup = sequential_time / gpu_time\n",
    "\n",
    "                # Calculate efficiency\n",
    "                cpu_efficiency = (cpu_speedup / num_processors) * 100\n",
    "\n",
    "                # Add row to the data list\n",
    "                row = {\n",
    "                    'name': filename[:-4],\n",
    "                    'difficulty': parameters['difficulty'],\n",
    "                    'size': parameters['size'],\n",
    "                    'capacity': parameters['capacity'],\n",
    "                    'numBlocks': parameters['numBlocks'],\n",
    "                    'sequential_time': sequential_time,\n",
    "                    'cpu_time': cpu_time,\n",
    "                    'gpu_time': gpu_time,\n",
    "                    'cpu_speedup': cpu_speedup,\n",
    "                    'gpu_speedup': gpu_speedup,\n",
    "                    'cpu_efficiency': cpu_efficiency\n",
    "                }\n",
    "                data.append(row)\n",
    "\n",
    "    # Create a DataFrame from the data list\n",
    "    results_df = pd.DataFrame(data)\n",
    "\n",
    "    return results_df\n"
   ]
  },
  {
   "cell_type": "code",
   "execution_count": 25,
   "metadata": {},
   "outputs": [
    {
     "data": {
      "text/html": [
       "<div>\n",
       "<style scoped>\n",
       "    .dataframe tbody tr th:only-of-type {\n",
       "        vertical-align: middle;\n",
       "    }\n",
       "\n",
       "    .dataframe tbody tr th {\n",
       "        vertical-align: top;\n",
       "    }\n",
       "\n",
       "    .dataframe thead th {\n",
       "        text-align: right;\n",
       "    }\n",
       "</style>\n",
       "<table border=\"1\" class=\"dataframe\">\n",
       "  <thead>\n",
       "    <tr style=\"text-align: right;\">\n",
       "      <th></th>\n",
       "      <th>name</th>\n",
       "      <th>difficulty</th>\n",
       "      <th>size</th>\n",
       "      <th>capacity</th>\n",
       "      <th>numBlocks</th>\n",
       "      <th>sequential_time</th>\n",
       "      <th>cpu_time</th>\n",
       "      <th>gpu_time</th>\n",
       "      <th>cpu_speedup</th>\n",
       "      <th>gpu_speedup</th>\n",
       "      <th>cpu_efficiency</th>\n",
       "    </tr>\n",
       "  </thead>\n",
       "  <tbody>\n",
       "    <tr>\n",
       "      <th>0</th>\n",
       "      <td>10-08-2023_04-34-58_difficulty=5</td>\n",
       "      <td>5</td>\n",
       "      <td>0</td>\n",
       "      <td>10</td>\n",
       "      <td>5</td>\n",
       "      <td>10.699629</td>\n",
       "      <td>10.956830</td>\n",
       "      <td>16.428109</td>\n",
       "      <td>0.976526</td>\n",
       "      <td>0.651300</td>\n",
       "      <td>6.103287</td>\n",
       "    </tr>\n",
       "    <tr>\n",
       "      <th>1</th>\n",
       "      <td>14-08-2023_15-56-29_difficulty=6</td>\n",
       "      <td>6</td>\n",
       "      <td>0</td>\n",
       "      <td>10</td>\n",
       "      <td>5</td>\n",
       "      <td>88.978497</td>\n",
       "      <td>109.663564</td>\n",
       "      <td>16.150781</td>\n",
       "      <td>0.811377</td>\n",
       "      <td>5.509238</td>\n",
       "      <td>5.071106</td>\n",
       "    </tr>\n",
       "    <tr>\n",
       "      <th>2</th>\n",
       "      <td>14-08-2023_17-05-05_difficulty=4_numBlocks=10</td>\n",
       "      <td>4</td>\n",
       "      <td>0</td>\n",
       "      <td>10</td>\n",
       "      <td>10</td>\n",
       "      <td>1.063676</td>\n",
       "      <td>1.494003</td>\n",
       "      <td>16.340305</td>\n",
       "      <td>0.711964</td>\n",
       "      <td>0.065095</td>\n",
       "      <td>4.449774</td>\n",
       "    </tr>\n",
       "    <tr>\n",
       "      <th>3</th>\n",
       "      <td>14-08-2023_17-06-18_difficulty=4_numBlocks=10_...</td>\n",
       "      <td>4</td>\n",
       "      <td>4</td>\n",
       "      <td>5</td>\n",
       "      <td>10</td>\n",
       "      <td>0.962474</td>\n",
       "      <td>1.347858</td>\n",
       "      <td>16.221627</td>\n",
       "      <td>0.714077</td>\n",
       "      <td>0.059333</td>\n",
       "      <td>4.462979</td>\n",
       "    </tr>\n",
       "  </tbody>\n",
       "</table>\n",
       "</div>"
      ],
      "text/plain": [
       "                                                name  difficulty  size  \\\n",
       "0                   10-08-2023_04-34-58_difficulty=5           5     0   \n",
       "1                   14-08-2023_15-56-29_difficulty=6           6     0   \n",
       "2      14-08-2023_17-05-05_difficulty=4_numBlocks=10           4     0   \n",
       "3  14-08-2023_17-06-18_difficulty=4_numBlocks=10_...           4     4   \n",
       "\n",
       "   capacity  numBlocks  sequential_time    cpu_time   gpu_time  cpu_speedup  \\\n",
       "0        10          5        10.699629   10.956830  16.428109     0.976526   \n",
       "1        10          5        88.978497  109.663564  16.150781     0.811377   \n",
       "2        10         10         1.063676    1.494003  16.340305     0.711964   \n",
       "3         5         10         0.962474    1.347858  16.221627     0.714077   \n",
       "\n",
       "   gpu_speedup  cpu_efficiency  \n",
       "0     0.651300        6.103287  \n",
       "1     5.509238        5.071106  \n",
       "2     0.065095        4.449774  \n",
       "3     0.059333        4.462979  "
      ]
     },
     "execution_count": 25,
     "metadata": {},
     "output_type": "execute_result"
    }
   ],
   "source": [
    "# Create a DataFrame from the data list\n",
    "results_df = initialize_dataset(results_path, default_parameters)\n",
    "\n",
    "# Display the DataFrame\n",
    "results_df"
   ]
  }
 ],
 "metadata": {
  "kernelspec": {
   "display_name": "Python 3",
   "language": "python",
   "name": "python3"
  },
  "language_info": {
   "codemirror_mode": {
    "name": "ipython",
    "version": 3
   },
   "file_extension": ".py",
   "mimetype": "text/x-python",
   "name": "python",
   "nbconvert_exporter": "python",
   "pygments_lexer": "ipython3",
   "version": "3.10.2"
  },
  "orig_nbformat": 4
 },
 "nbformat": 4,
 "nbformat_minor": 2
}
