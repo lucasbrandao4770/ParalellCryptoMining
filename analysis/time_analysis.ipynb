{
 "cells": [
  {
   "cell_type": "markdown",
   "metadata": {},
   "source": [
    "# Importing Libraries"
   ]
  },
  {
   "cell_type": "code",
   "execution_count": 1,
   "metadata": {},
   "outputs": [],
   "source": [
    "import os\n",
    "import re\n",
    "import chardet\n",
    "import pandas as pd\n",
    "import multiprocessing\n",
    "import matplotlib.pyplot as plt\n",
    "import subprocess\n",
    "from itertools import product"
   ]
  },
  {
   "cell_type": "markdown",
   "metadata": {},
   "source": [
    "# Getting information about your machine"
   ]
  },
  {
   "cell_type": "markdown",
   "metadata": {},
   "source": [
    "For measuring the cpu efficiency, we assume that all the processors are being used in the code. If that's not the case, modify the value of the variable below"
   ]
  },
  {
   "cell_type": "code",
   "execution_count": 2,
   "metadata": {},
   "outputs": [
    {
     "data": {
      "text/plain": [
       "16"
      ]
     },
     "execution_count": 2,
     "metadata": {},
     "output_type": "execute_result"
    }
   ],
   "source": [
    "num_processors = multiprocessing.cpu_count()\n",
    "\n",
    "num_processors"
   ]
  },
  {
   "cell_type": "markdown",
   "metadata": {},
   "source": [
    "# Running tests"
   ]
  },
  {
   "cell_type": "code",
   "execution_count": 10,
   "metadata": {},
   "outputs": [],
   "source": [
    "def run_tests(parameters, static_args):\n",
    "    # Set the path to the batch file (USING ABSOLUTE PATH)\n",
    "    batch_file_path = 'D:/Workspace/BIA/Semestre 5/Computação de Alto Desempenho/ParalellCryptoMining/timer/time_miners.bat'\n",
    "    \n",
    "    # Iterate through the parameters and construct the command-line arguments\n",
    "    for param, values in parameters.items():\n",
    "        for value in values:\n",
    "            args = [f'{param}={value}']\n",
    "            \n",
    "            # Add the static arguments\n",
    "            args.extend([f'{key}={value}' for key, value in static_args.items()])\n",
    "            \n",
    "            # Construct the command to run the batch file\n",
    "            command = [batch_file_path] + args\n",
    "            \n",
    "            print(f\"Running: {command}\")\n",
    "\n",
    "            # Execute the command, setting the working directory\n",
    "            subprocess.run(command, cwd='../timer')\n",
    "\n",
    "\n",
    "    print(\"All tests completed.\")"
   ]
  },
  {
   "cell_type": "code",
   "execution_count": 11,
   "metadata": {},
   "outputs": [
    {
     "name": "stdout",
     "output_type": "stream",
     "text": [
      "Running: ['D:/Workspace/BIA/Semestre 5/Computação de Alto Desempenho/ParalellCryptoMining/timer/time_miners.bat', 'difficulty=1', 'numBlocks=20']\n",
      "Running: ['D:/Workspace/BIA/Semestre 5/Computação de Alto Desempenho/ParalellCryptoMining/timer/time_miners.bat', 'difficulty=2', 'numBlocks=20']\n",
      "Running: ['D:/Workspace/BIA/Semestre 5/Computação de Alto Desempenho/ParalellCryptoMining/timer/time_miners.bat', 'difficulty=3', 'numBlocks=20']\n",
      "Running: ['D:/Workspace/BIA/Semestre 5/Computação de Alto Desempenho/ParalellCryptoMining/timer/time_miners.bat', 'difficulty=4', 'numBlocks=20']\n",
      "Running: ['D:/Workspace/BIA/Semestre 5/Computação de Alto Desempenho/ParalellCryptoMining/timer/time_miners.bat', 'difficulty=5', 'numBlocks=20']\n",
      "Running: ['D:/Workspace/BIA/Semestre 5/Computação de Alto Desempenho/ParalellCryptoMining/timer/time_miners.bat', 'difficulty=6', 'numBlocks=20']\n",
      "Running: ['D:/Workspace/BIA/Semestre 5/Computação de Alto Desempenho/ParalellCryptoMining/timer/time_miners.bat', 'difficulty=7', 'numBlocks=20']\n",
      "All tests completed.\n"
     ]
    }
   ],
   "source": [
    "parameters = {'difficulty': [1, 2, 3, 4, 5, 6, 7]}\n",
    "static_args = {'numBlocks': 20}\n",
    "\n",
    "run_tests(parameters, static_args)"
   ]
  },
  {
   "cell_type": "markdown",
   "metadata": {},
   "source": [
    "# Getting the data and calculating metrics"
   ]
  },
  {
   "cell_type": "code",
   "execution_count": 12,
   "metadata": {},
   "outputs": [],
   "source": [
    "# Path to the results folder\n",
    "results_path = '../results'\n",
    "\n",
    "default_parameters = {\n",
    "    \"difficulty\": 4,\n",
    "    \"size\": 0,\n",
    "    \"capacity\": 10,\n",
    "    \"numBlocks\": 5\n",
    "}"
   ]
  },
  {
   "cell_type": "code",
   "execution_count": 13,
   "metadata": {},
   "outputs": [],
   "source": [
    "def initialize_dataset(results_folder, default_parameters):\n",
    "    # List to store the data\n",
    "    data = []\n",
    "\n",
    "    # Iterate through the files in the results folder\n",
    "    for filename in os.listdir(results_folder):\n",
    "        if filename.endswith('.txt'):\n",
    "            file_path = os.path.join(results_folder, filename)\n",
    "            with open(file_path, 'rb') as file:\n",
    "                rawdata = file.read()\n",
    "                result = chardet.detect(rawdata)\n",
    "                file_encoding = result['encoding']\n",
    "            with open(file_path, 'r', encoding=file_encoding, errors='ignore') as file:\n",
    "                content = file.read()\n",
    "                lines = content.split('\\n')  # Split content into lines\n",
    "\n",
    "                # Find the lines that contain \"TotalSeconds\" and extract the corresponding values\n",
    "                total_seconds_values = [float(line.split(':')[1].strip().replace(',', '.')) for line in lines if 'TotalSeconds' in line]\n",
    "\n",
    "                if len(total_seconds_values) == 3:\n",
    "                    sequential_time, cpu_time, gpu_time = total_seconds_values\n",
    "                else:\n",
    "                    print(f\"Time values not found in expected format in {filename}\")\n",
    "                    continue\n",
    "\n",
    "                # Extract parameters from the filename\n",
    "                parameters = default_parameters.copy()\n",
    "                for param in re.findall(r'_(\\w+)=(\\d+)', filename):\n",
    "                    key, value = param\n",
    "                    parameters[key] = int(value)\n",
    "\n",
    "                # Calculate speedup\n",
    "                cpu_speedup = sequential_time / cpu_time\n",
    "                gpu_speedup = sequential_time / gpu_time\n",
    "\n",
    "                # Calculate efficiency\n",
    "                cpu_efficiency = (cpu_speedup / num_processors) * 100\n",
    "\n",
    "                # Add row to the data list\n",
    "                row = {\n",
    "                    'name': filename[:-4],\n",
    "                    'difficulty': parameters['difficulty'],\n",
    "                    'size': parameters['size'],\n",
    "                    'capacity': parameters['capacity'],\n",
    "                    'numBlocks': parameters['numBlocks'],\n",
    "                    'sequential_time': sequential_time,\n",
    "                    'cpu_time': cpu_time,\n",
    "                    'gpu_time': gpu_time,\n",
    "                    'cpu_speedup': cpu_speedup,\n",
    "                    'gpu_speedup': gpu_speedup,\n",
    "                    'cpu_efficiency': cpu_efficiency\n",
    "                }\n",
    "                data.append(row)\n",
    "\n",
    "    # Create a DataFrame from the data list\n",
    "    results_df = pd.DataFrame(data)\n",
    "\n",
    "    return results_df\n"
   ]
  },
  {
   "cell_type": "code",
   "execution_count": 14,
   "metadata": {},
   "outputs": [
    {
     "data": {
      "text/html": [
       "<div>\n",
       "<style scoped>\n",
       "    .dataframe tbody tr th:only-of-type {\n",
       "        vertical-align: middle;\n",
       "    }\n",
       "\n",
       "    .dataframe tbody tr th {\n",
       "        vertical-align: top;\n",
       "    }\n",
       "\n",
       "    .dataframe thead th {\n",
       "        text-align: right;\n",
       "    }\n",
       "</style>\n",
       "<table border=\"1\" class=\"dataframe\">\n",
       "  <thead>\n",
       "    <tr style=\"text-align: right;\">\n",
       "      <th></th>\n",
       "      <th>name</th>\n",
       "      <th>difficulty</th>\n",
       "      <th>size</th>\n",
       "      <th>capacity</th>\n",
       "      <th>numBlocks</th>\n",
       "      <th>sequential_time</th>\n",
       "      <th>cpu_time</th>\n",
       "      <th>gpu_time</th>\n",
       "      <th>cpu_speedup</th>\n",
       "      <th>gpu_speedup</th>\n",
       "      <th>cpu_efficiency</th>\n",
       "    </tr>\n",
       "  </thead>\n",
       "  <tbody>\n",
       "    <tr>\n",
       "      <th>0</th>\n",
       "      <td>14-08-2023_18-15-02_difficulty=1_numBlocks=20</td>\n",
       "      <td>1</td>\n",
       "      <td>0</td>\n",
       "      <td>10</td>\n",
       "      <td>20</td>\n",
       "      <td>0.396771</td>\n",
       "      <td>0.209456</td>\n",
       "      <td>17.716021</td>\n",
       "      <td>1.894293</td>\n",
       "      <td>0.022396</td>\n",
       "      <td>11.839328</td>\n",
       "    </tr>\n",
       "    <tr>\n",
       "      <th>1</th>\n",
       "      <td>14-08-2023_18-15-34_difficulty=2_numBlocks=20</td>\n",
       "      <td>2</td>\n",
       "      <td>0</td>\n",
       "      <td>10</td>\n",
       "      <td>20</td>\n",
       "      <td>0.202931</td>\n",
       "      <td>0.212799</td>\n",
       "      <td>18.772097</td>\n",
       "      <td>0.953629</td>\n",
       "      <td>0.010810</td>\n",
       "      <td>5.960179</td>\n",
       "    </tr>\n",
       "    <tr>\n",
       "      <th>2</th>\n",
       "      <td>14-08-2023_18-16-08_difficulty=3_numBlocks=20</td>\n",
       "      <td>3</td>\n",
       "      <td>0</td>\n",
       "      <td>10</td>\n",
       "      <td>20</td>\n",
       "      <td>0.227533</td>\n",
       "      <td>0.220960</td>\n",
       "      <td>18.206115</td>\n",
       "      <td>1.029748</td>\n",
       "      <td>0.012498</td>\n",
       "      <td>6.435925</td>\n",
       "    </tr>\n",
       "    <tr>\n",
       "      <th>3</th>\n",
       "      <td>14-08-2023_18-16-42_difficulty=4_numBlocks=20</td>\n",
       "      <td>4</td>\n",
       "      <td>0</td>\n",
       "      <td>10</td>\n",
       "      <td>20</td>\n",
       "      <td>0.593460</td>\n",
       "      <td>0.647355</td>\n",
       "      <td>17.403237</td>\n",
       "      <td>0.916745</td>\n",
       "      <td>0.034101</td>\n",
       "      <td>5.729656</td>\n",
       "    </tr>\n",
       "    <tr>\n",
       "      <th>4</th>\n",
       "      <td>14-08-2023_18-17-16_difficulty=5_numBlocks=20</td>\n",
       "      <td>5</td>\n",
       "      <td>0</td>\n",
       "      <td>10</td>\n",
       "      <td>20</td>\n",
       "      <td>7.080314</td>\n",
       "      <td>13.909592</td>\n",
       "      <td>17.313501</td>\n",
       "      <td>0.509024</td>\n",
       "      <td>0.408948</td>\n",
       "      <td>3.181399</td>\n",
       "    </tr>\n",
       "    <tr>\n",
       "      <th>5</th>\n",
       "      <td>14-08-2023_18-18-09_difficulty=6_numBlocks=20</td>\n",
       "      <td>6</td>\n",
       "      <td>0</td>\n",
       "      <td>10</td>\n",
       "      <td>20</td>\n",
       "      <td>171.504686</td>\n",
       "      <td>204.137973</td>\n",
       "      <td>17.291910</td>\n",
       "      <td>0.840141</td>\n",
       "      <td>9.918204</td>\n",
       "      <td>5.250881</td>\n",
       "    </tr>\n",
       "    <tr>\n",
       "      <th>6</th>\n",
       "      <td>14-08-2023_18-24-57_difficulty=7_numBlocks=20</td>\n",
       "      <td>7</td>\n",
       "      <td>0</td>\n",
       "      <td>10</td>\n",
       "      <td>20</td>\n",
       "      <td>1738.931374</td>\n",
       "      <td>2589.966476</td>\n",
       "      <td>78.573531</td>\n",
       "      <td>0.671411</td>\n",
       "      <td>22.131262</td>\n",
       "      <td>4.196317</td>\n",
       "    </tr>\n",
       "  </tbody>\n",
       "</table>\n",
       "</div>"
      ],
      "text/plain": [
       "                                            name  difficulty  size  capacity  \\\n",
       "0  14-08-2023_18-15-02_difficulty=1_numBlocks=20           1     0        10   \n",
       "1  14-08-2023_18-15-34_difficulty=2_numBlocks=20           2     0        10   \n",
       "2  14-08-2023_18-16-08_difficulty=3_numBlocks=20           3     0        10   \n",
       "3  14-08-2023_18-16-42_difficulty=4_numBlocks=20           4     0        10   \n",
       "4  14-08-2023_18-17-16_difficulty=5_numBlocks=20           5     0        10   \n",
       "5  14-08-2023_18-18-09_difficulty=6_numBlocks=20           6     0        10   \n",
       "6  14-08-2023_18-24-57_difficulty=7_numBlocks=20           7     0        10   \n",
       "\n",
       "   numBlocks  sequential_time     cpu_time   gpu_time  cpu_speedup  \\\n",
       "0         20         0.396771     0.209456  17.716021     1.894293   \n",
       "1         20         0.202931     0.212799  18.772097     0.953629   \n",
       "2         20         0.227533     0.220960  18.206115     1.029748   \n",
       "3         20         0.593460     0.647355  17.403237     0.916745   \n",
       "4         20         7.080314    13.909592  17.313501     0.509024   \n",
       "5         20       171.504686   204.137973  17.291910     0.840141   \n",
       "6         20      1738.931374  2589.966476  78.573531     0.671411   \n",
       "\n",
       "   gpu_speedup  cpu_efficiency  \n",
       "0     0.022396       11.839328  \n",
       "1     0.010810        5.960179  \n",
       "2     0.012498        6.435925  \n",
       "3     0.034101        5.729656  \n",
       "4     0.408948        3.181399  \n",
       "5     9.918204        5.250881  \n",
       "6    22.131262        4.196317  "
      ]
     },
     "execution_count": 14,
     "metadata": {},
     "output_type": "execute_result"
    }
   ],
   "source": [
    "# Create a DataFrame from the data list\n",
    "results_df = initialize_dataset(results_path, default_parameters)\n",
    "\n",
    "# Display the DataFrame\n",
    "results_df"
   ]
  },
  {
   "cell_type": "markdown",
   "metadata": {},
   "source": [
    "# Graphs"
   ]
  },
  {
   "cell_type": "code",
   "execution_count": 15,
   "metadata": {},
   "outputs": [],
   "source": [
    "def plot_time_vs_metric(df, x_metric):\n",
    "    # Sort DataFrame by x_metric\n",
    "    df = df.sort_values(by=x_metric)\n",
    "    \n",
    "    plt.figure(figsize=(10, 6))\n",
    "    \n",
    "    # Plot Sequential Time\n",
    "    plt.plot(df[x_metric], df['sequential_time'], label='Sequential Time', color='blue', marker='o')\n",
    "    \n",
    "    # Plot CPU Time\n",
    "    plt.plot(df[x_metric], df['cpu_time'], label='CPU Time (OpenMP)', color='red', marker='s')\n",
    "    \n",
    "    # Plot GPU Time\n",
    "    plt.plot(df[x_metric], df['gpu_time'], label='GPU Time (CUDA)', color='green', marker='^')\n",
    "\n",
    "    plt.title(f'Time vs {x_metric}')\n",
    "    plt.xlabel(x_metric)\n",
    "    plt.ylabel('Time (seconds)')\n",
    "    plt.legend()\n",
    "    plt.grid(True)\n",
    "    plt.show()\n"
   ]
  },
  {
   "cell_type": "code",
   "execution_count": 16,
   "metadata": {},
   "outputs": [
    {
     "data": {
      "image/png": "[encoded data removed]",
      "text/plain": [
       "<Figure size 720x432 with 1 Axes>"
      ]
     },
     "metadata": {
      "needs_background": "light"
     },
     "output_type": "display_data"
    }
   ],
   "source": [
    "plot_time_vs_metric(results_df, 'difficulty')\n"
   ]
  },
  {
   "cell_type": "code",
   "execution_count": 17,
   "metadata": {},
   "outputs": [
    {
     "data": {
      "image/png": "[encoded data removed]",
      "text/plain": [
       "<Figure size 720x432 with 1 Axes>"
      ]
     },
     "metadata": {
      "needs_background": "light"
     },
     "output_type": "display_data"
    }
   ],
   "source": [
    "plot_time_vs_metric(results_df, 'numBlocks')\n"
   ]
  }
 ],
 "metadata": {
  "kernelspec": {
   "display_name": "Python 3",
   "language": "python",
   "name": "python3"
  },
  "language_info": {
   "codemirror_mode": {
    "name": "ipython",
    "version": 3
   },
   "file_extension": ".py",
   "mimetype": "text/x-python",
   "name": "python",
   "nbconvert_exporter": "python",
   "pygments_lexer": "ipython3",
   "version": "3.9.7"
  },
  "orig_nbformat": 4
 },
 "nbformat": 4,
 "nbformat_minor": 2
}
